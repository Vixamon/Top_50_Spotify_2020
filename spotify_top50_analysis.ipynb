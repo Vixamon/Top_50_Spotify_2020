{
 "cells": [
  {
   "cell_type": "markdown",
   "metadata": {},
   "source": [
    "# Spotify Top 50 Tracks of 2020 Dataset analysis"
   ]
  },
  {
   "cell_type": "markdown",
   "metadata": {},
   "source": [
    "## In this analysis, we will be looking into the Top 50 Tracks of 2020 on Spotify to analyze what genres and artists received the most attention, as well as do some comparison on numeric values by genre to quantify what makes a hit song."
   ]
  },
  {
   "cell_type": "markdown",
   "metadata": {},
   "source": [
    "### First, we import the dataset and check what we're working with, as well as the main library we will use for analysis - pandas."
   ]
  },
  {
   "cell_type": "code",
   "execution_count": 1,
   "metadata": {},
   "outputs": [
    {
     "data": {
      "text/html": [
       "<div>\n",
       "<style scoped>\n",
       "    .dataframe tbody tr th:only-of-type {\n",
       "        vertical-align: middle;\n",
       "    }\n",
       "\n",
       "    .dataframe tbody tr th {\n",
       "        vertical-align: top;\n",
       "    }\n",
       "\n",
       "    .dataframe thead th {\n",
       "        text-align: right;\n",
       "    }\n",
       "</style>\n",
       "<table border=\"1\" class=\"dataframe\">\n",
       "  <thead>\n",
       "    <tr style=\"text-align: right;\">\n",
       "      <th></th>\n",
       "      <th>artist</th>\n",
       "      <th>album</th>\n",
       "      <th>track_name</th>\n",
       "      <th>track_id</th>\n",
       "      <th>energy</th>\n",
       "      <th>danceability</th>\n",
       "      <th>key</th>\n",
       "      <th>loudness</th>\n",
       "      <th>acousticness</th>\n",
       "      <th>speechiness</th>\n",
       "      <th>instrumentalness</th>\n",
       "      <th>liveness</th>\n",
       "      <th>valence</th>\n",
       "      <th>tempo</th>\n",
       "      <th>duration_ms</th>\n",
       "      <th>genre</th>\n",
       "    </tr>\n",
       "  </thead>\n",
       "  <tbody>\n",
       "    <tr>\n",
       "      <th>0</th>\n",
       "      <td>The Weeknd</td>\n",
       "      <td>After Hours</td>\n",
       "      <td>Blinding Lights</td>\n",
       "      <td>0VjIjW4GlUZAMYd2vXMi3b</td>\n",
       "      <td>0.730</td>\n",
       "      <td>0.514</td>\n",
       "      <td>1</td>\n",
       "      <td>-5.934</td>\n",
       "      <td>0.00146</td>\n",
       "      <td>0.0598</td>\n",
       "      <td>0.000095</td>\n",
       "      <td>0.0897</td>\n",
       "      <td>0.334</td>\n",
       "      <td>171.005</td>\n",
       "      <td>200040</td>\n",
       "      <td>R&amp;B/Soul</td>\n",
       "    </tr>\n",
       "    <tr>\n",
       "      <th>1</th>\n",
       "      <td>Tones And I</td>\n",
       "      <td>Dance Monkey</td>\n",
       "      <td>Dance Monkey</td>\n",
       "      <td>1rgnBhdG2JDFTbYkYRZAku</td>\n",
       "      <td>0.593</td>\n",
       "      <td>0.825</td>\n",
       "      <td>6</td>\n",
       "      <td>-6.401</td>\n",
       "      <td>0.68800</td>\n",
       "      <td>0.0988</td>\n",
       "      <td>0.000161</td>\n",
       "      <td>0.1700</td>\n",
       "      <td>0.540</td>\n",
       "      <td>98.078</td>\n",
       "      <td>209755</td>\n",
       "      <td>Alternative/Indie</td>\n",
       "    </tr>\n",
       "    <tr>\n",
       "      <th>2</th>\n",
       "      <td>Roddy Ricch</td>\n",
       "      <td>Please Excuse Me For Being Antisocial</td>\n",
       "      <td>The Box</td>\n",
       "      <td>0nbXyq5TXYPCO7pr3N8S4I</td>\n",
       "      <td>0.586</td>\n",
       "      <td>0.896</td>\n",
       "      <td>10</td>\n",
       "      <td>-6.687</td>\n",
       "      <td>0.10400</td>\n",
       "      <td>0.0559</td>\n",
       "      <td>0.000000</td>\n",
       "      <td>0.7900</td>\n",
       "      <td>0.642</td>\n",
       "      <td>116.971</td>\n",
       "      <td>196653</td>\n",
       "      <td>Hip-Hop/Rap</td>\n",
       "    </tr>\n",
       "    <tr>\n",
       "      <th>3</th>\n",
       "      <td>SAINt JHN</td>\n",
       "      <td>Roses (Imanbek Remix)</td>\n",
       "      <td>Roses - Imanbek Remix</td>\n",
       "      <td>2Wo6QQD1KMDWeFkkjLqwx5</td>\n",
       "      <td>0.721</td>\n",
       "      <td>0.785</td>\n",
       "      <td>8</td>\n",
       "      <td>-5.457</td>\n",
       "      <td>0.01490</td>\n",
       "      <td>0.0506</td>\n",
       "      <td>0.004320</td>\n",
       "      <td>0.2850</td>\n",
       "      <td>0.894</td>\n",
       "      <td>121.962</td>\n",
       "      <td>176219</td>\n",
       "      <td>Dance/Electronic</td>\n",
       "    </tr>\n",
       "    <tr>\n",
       "      <th>4</th>\n",
       "      <td>Dua Lipa</td>\n",
       "      <td>Future Nostalgia</td>\n",
       "      <td>Don't Start Now</td>\n",
       "      <td>3PfIrDoz19wz7qK7tYeu62</td>\n",
       "      <td>0.793</td>\n",
       "      <td>0.793</td>\n",
       "      <td>11</td>\n",
       "      <td>-4.521</td>\n",
       "      <td>0.01230</td>\n",
       "      <td>0.0830</td>\n",
       "      <td>0.000000</td>\n",
       "      <td>0.0951</td>\n",
       "      <td>0.679</td>\n",
       "      <td>123.950</td>\n",
       "      <td>183290</td>\n",
       "      <td>Nu-disco</td>\n",
       "    </tr>\n",
       "  </tbody>\n",
       "</table>\n",
       "</div>"
      ],
      "text/plain": [
       "        artist                                  album             track_name  \\\n",
       "0   The Weeknd                            After Hours        Blinding Lights   \n",
       "1  Tones And I                           Dance Monkey           Dance Monkey   \n",
       "2  Roddy Ricch  Please Excuse Me For Being Antisocial                The Box   \n",
       "3    SAINt JHN                  Roses (Imanbek Remix)  Roses - Imanbek Remix   \n",
       "4     Dua Lipa                       Future Nostalgia        Don't Start Now   \n",
       "\n",
       "                 track_id  energy  danceability  key  loudness  acousticness  \\\n",
       "0  0VjIjW4GlUZAMYd2vXMi3b   0.730         0.514    1    -5.934       0.00146   \n",
       "1  1rgnBhdG2JDFTbYkYRZAku   0.593         0.825    6    -6.401       0.68800   \n",
       "2  0nbXyq5TXYPCO7pr3N8S4I   0.586         0.896   10    -6.687       0.10400   \n",
       "3  2Wo6QQD1KMDWeFkkjLqwx5   0.721         0.785    8    -5.457       0.01490   \n",
       "4  3PfIrDoz19wz7qK7tYeu62   0.793         0.793   11    -4.521       0.01230   \n",
       "\n",
       "   speechiness  instrumentalness  liveness  valence    tempo  duration_ms  \\\n",
       "0       0.0598          0.000095    0.0897    0.334  171.005       200040   \n",
       "1       0.0988          0.000161    0.1700    0.540   98.078       209755   \n",
       "2       0.0559          0.000000    0.7900    0.642  116.971       196653   \n",
       "3       0.0506          0.004320    0.2850    0.894  121.962       176219   \n",
       "4       0.0830          0.000000    0.0951    0.679  123.950       183290   \n",
       "\n",
       "               genre  \n",
       "0           R&B/Soul  \n",
       "1  Alternative/Indie  \n",
       "2        Hip-Hop/Rap  \n",
       "3   Dance/Electronic  \n",
       "4           Nu-disco  "
      ]
     },
     "execution_count": 1,
     "metadata": {},
     "output_type": "execute_result"
    }
   ],
   "source": [
    "import pandas as pd\n",
    "dataset = pd.read_csv(\"spotifytoptracks.csv\",index_col=0)\n",
    "dataset.head()"
   ]
  },
  {
   "cell_type": "markdown",
   "metadata": {},
   "source": [
    "There seem to be quite a lot of vague numeric features about each track. However, we might not be too interested in them for the majority of our analysis."
   ]
  },
  {
   "cell_type": "markdown",
   "metadata": {},
   "source": [
    "### We clean the dataset by removing most of the features we will not be needing for now."
   ]
  },
  {
   "cell_type": "code",
   "execution_count": 2,
   "metadata": {},
   "outputs": [
    {
     "data": {
      "text/html": [
       "<div>\n",
       "<style scoped>\n",
       "    .dataframe tbody tr th:only-of-type {\n",
       "        vertical-align: middle;\n",
       "    }\n",
       "\n",
       "    .dataframe tbody tr th {\n",
       "        vertical-align: top;\n",
       "    }\n",
       "\n",
       "    .dataframe thead th {\n",
       "        text-align: right;\n",
       "    }\n",
       "</style>\n",
       "<table border=\"1\" class=\"dataframe\">\n",
       "  <thead>\n",
       "    <tr style=\"text-align: right;\">\n",
       "      <th></th>\n",
       "      <th>artist</th>\n",
       "      <th>album</th>\n",
       "      <th>track name</th>\n",
       "      <th>genre</th>\n",
       "    </tr>\n",
       "  </thead>\n",
       "  <tbody>\n",
       "    <tr>\n",
       "      <th>0</th>\n",
       "      <td>The Weeknd</td>\n",
       "      <td>After Hours</td>\n",
       "      <td>Blinding Lights</td>\n",
       "      <td>[R&amp;B, Soul]</td>\n",
       "    </tr>\n",
       "    <tr>\n",
       "      <th>1</th>\n",
       "      <td>Tones And I</td>\n",
       "      <td>Dance Monkey</td>\n",
       "      <td>Dance Monkey</td>\n",
       "      <td>[Alternative, Indie]</td>\n",
       "    </tr>\n",
       "    <tr>\n",
       "      <th>2</th>\n",
       "      <td>Roddy Ricch</td>\n",
       "      <td>Please Excuse Me For Being Antisocial</td>\n",
       "      <td>The Box</td>\n",
       "      <td>[Hip-Hop, Rap]</td>\n",
       "    </tr>\n",
       "    <tr>\n",
       "      <th>3</th>\n",
       "      <td>SAINt JHN</td>\n",
       "      <td>Roses (Imanbek Remix)</td>\n",
       "      <td>Roses - Imanbek Remix</td>\n",
       "      <td>[Dance, Electronic]</td>\n",
       "    </tr>\n",
       "    <tr>\n",
       "      <th>4</th>\n",
       "      <td>Dua Lipa</td>\n",
       "      <td>Future Nostalgia</td>\n",
       "      <td>Don't Start Now</td>\n",
       "      <td>[Nu-Disco]</td>\n",
       "    </tr>\n",
       "  </tbody>\n",
       "</table>\n",
       "</div>"
      ],
      "text/plain": [
       "        artist                                  album             track name  \\\n",
       "0   The Weeknd                            After Hours        Blinding Lights   \n",
       "1  Tones And I                           Dance Monkey           Dance Monkey   \n",
       "2  Roddy Ricch  Please Excuse Me For Being Antisocial                The Box   \n",
       "3    SAINt JHN                  Roses (Imanbek Remix)  Roses - Imanbek Remix   \n",
       "4     Dua Lipa                       Future Nostalgia        Don't Start Now   \n",
       "\n",
       "                  genre  \n",
       "0           [R&B, Soul]  \n",
       "1  [Alternative, Indie]  \n",
       "2        [Hip-Hop, Rap]  \n",
       "3   [Dance, Electronic]  \n",
       "4            [Nu-Disco]  "
      ]
     },
     "execution_count": 2,
     "metadata": {},
     "output_type": "execute_result"
    }
   ],
   "source": [
    "clean_dataset = (\n",
    "    dataset\n",
    "    .drop(columns=[\"track_id\",\"energy\",\"danceability\",\"key\",\"loudness\",\"acousticness\",\"speechiness\",\"instrumentalness\",\"liveness\",\"valence\",\"tempo\",\"duration_ms\"])\n",
    "    .assign(genre = lambda x: x[\"genre\"].str.title().str.strip().str.split(\"/\"))\n",
    "    .rename(columns={\"track_name\": \"track name\"})\n",
    ")\n",
    "clean_dataset.head()"
   ]
  },
  {
   "cell_type": "markdown",
   "metadata": {},
   "source": [
    "Now the dataset looks cleaner, and the genres have been split by category for any possible further analysis."
   ]
  },
  {
   "cell_type": "markdown",
   "metadata": {},
   "source": [
    "### We check whether there are any missing values in the dataset."
   ]
  },
  {
   "cell_type": "code",
   "execution_count": 3,
   "metadata": {},
   "outputs": [
    {
     "data": {
      "text/plain": [
       "np.False_"
      ]
     },
     "execution_count": 3,
     "metadata": {},
     "output_type": "execute_result"
    }
   ],
   "source": [
    "dataset.isna().any().any()"
   ]
  },
  {
   "cell_type": "markdown",
   "metadata": {},
   "source": [
    "Seems like there are none, great!"
   ]
  },
  {
   "cell_type": "markdown",
   "metadata": {},
   "source": [
    "### We check if there are any duplicate values or features in the dataset."
   ]
  },
  {
   "cell_type": "code",
   "execution_count": 4,
   "metadata": {},
   "outputs": [
    {
     "name": "stdout",
     "output_type": "stream",
     "text": [
      "0\n",
      "0\n"
     ]
    }
   ],
   "source": [
    "print(len(dataset[dataset.duplicated()]))\n",
    "print(len(dataset.columns[dataset.columns.duplicated()]))"
   ]
  },
  {
   "cell_type": "markdown",
   "metadata": {},
   "source": [
    "No duplicate values as well, which is expected from unique tracks."
   ]
  },
  {
   "cell_type": "markdown",
   "metadata": {},
   "source": [
    "### How many observations are there in this dataset?"
   ]
  },
  {
   "cell_type": "code",
   "execution_count": 5,
   "metadata": {},
   "outputs": [
    {
     "data": {
      "text/plain": [
       "50"
      ]
     },
     "execution_count": 5,
     "metadata": {},
     "output_type": "execute_result"
    }
   ],
   "source": [
    "len(dataset)"
   ]
  },
  {
   "cell_type": "markdown",
   "metadata": {},
   "source": [
    "As expected, we are working with the Top 50 tracks dataset, so we have 50 observations."
   ]
  },
  {
   "cell_type": "markdown",
   "metadata": {},
   "source": [
    "### How many features does this dataset have?"
   ]
  },
  {
   "cell_type": "code",
   "execution_count": 6,
   "metadata": {},
   "outputs": [
    {
     "data": {
      "text/plain": [
       "16"
      ]
     },
     "execution_count": 6,
     "metadata": {},
     "output_type": "execute_result"
    }
   ],
   "source": [
    "len(dataset.columns)"
   ]
  },
  {
   "cell_type": "markdown",
   "metadata": {},
   "source": [
    "We have a total of 16 features that we can use to compare all of our tracks with."
   ]
  },
  {
   "cell_type": "markdown",
   "metadata": {},
   "source": [
    "### Which of the features are categorical?"
   ]
  },
  {
   "cell_type": "code",
   "execution_count": 7,
   "metadata": {},
   "outputs": [
    {
     "data": {
      "text/plain": [
       "['artist', 'album', 'track_name', 'track_id', 'genre']"
      ]
     },
     "execution_count": 7,
     "metadata": {},
     "output_type": "execute_result"
    }
   ],
   "source": [
    "categorical = [x for x in dataset if dataset[x].dtype == \"object\"]\n",
    "categorical"
   ]
  },
  {
   "cell_type": "markdown",
   "metadata": {},
   "source": [
    "Most of these 5 categorical features can help us sort the data in a visually quickly understandable way (for example alphabetically)"
   ]
  },
  {
   "cell_type": "markdown",
   "metadata": {},
   "source": [
    "### Which of the features are numeric?"
   ]
  },
  {
   "cell_type": "code",
   "execution_count": 8,
   "metadata": {},
   "outputs": [
    {
     "data": {
      "text/plain": [
       "['energy',\n",
       " 'danceability',\n",
       " 'key',\n",
       " 'loudness',\n",
       " 'acousticness',\n",
       " 'speechiness',\n",
       " 'instrumentalness',\n",
       " 'liveness',\n",
       " 'valence',\n",
       " 'tempo',\n",
       " 'duration_ms']"
      ]
     },
     "execution_count": 8,
     "metadata": {},
     "output_type": "execute_result"
    }
   ],
   "source": [
    "numeric = [x for x in dataset if dataset[x].dtype in [\"int64\",\"float64\"]]\n",
    "numeric"
   ]
  },
  {
   "cell_type": "markdown",
   "metadata": {},
   "source": [
    "With 11 numeric features, we can do a lot of mathematical comparison between tracks to get various results."
   ]
  },
  {
   "cell_type": "markdown",
   "metadata": {},
   "source": [
    "### Let's check for outliers."
   ]
  },
  {
   "cell_type": "code",
   "execution_count": 9,
   "metadata": {},
   "outputs": [
    {
     "data": {
      "text/html": [
       "<div>\n",
       "<style scoped>\n",
       "    .dataframe tbody tr th:only-of-type {\n",
       "        vertical-align: middle;\n",
       "    }\n",
       "\n",
       "    .dataframe tbody tr th {\n",
       "        vertical-align: top;\n",
       "    }\n",
       "\n",
       "    .dataframe thead th {\n",
       "        text-align: right;\n",
       "    }\n",
       "</style>\n",
       "<table border=\"1\" class=\"dataframe\">\n",
       "  <thead>\n",
       "    <tr style=\"text-align: right;\">\n",
       "      <th></th>\n",
       "      <th>energy</th>\n",
       "      <th>danceability</th>\n",
       "      <th>key</th>\n",
       "      <th>loudness</th>\n",
       "      <th>acousticness</th>\n",
       "      <th>speechiness</th>\n",
       "      <th>instrumentalness</th>\n",
       "      <th>liveness</th>\n",
       "      <th>valence</th>\n",
       "      <th>tempo</th>\n",
       "      <th>duration_ms</th>\n",
       "    </tr>\n",
       "  </thead>\n",
       "  <tbody>\n",
       "    <tr>\n",
       "      <th>min</th>\n",
       "      <td>0.225000</td>\n",
       "      <td>0.351000</td>\n",
       "      <td>0.000000</td>\n",
       "      <td>-14.454000</td>\n",
       "      <td>0.00146</td>\n",
       "      <td>0.029000</td>\n",
       "      <td>0.000000</td>\n",
       "      <td>0.05740</td>\n",
       "      <td>0.060500</td>\n",
       "      <td>75.801000</td>\n",
       "      <td>140526.000000</td>\n",
       "    </tr>\n",
       "    <tr>\n",
       "      <th>median</th>\n",
       "      <td>0.597000</td>\n",
       "      <td>0.746000</td>\n",
       "      <td>6.500000</td>\n",
       "      <td>-5.991500</td>\n",
       "      <td>0.18850</td>\n",
       "      <td>0.070050</td>\n",
       "      <td>0.000000</td>\n",
       "      <td>0.11100</td>\n",
       "      <td>0.560000</td>\n",
       "      <td>116.969000</td>\n",
       "      <td>197853.500000</td>\n",
       "    </tr>\n",
       "    <tr>\n",
       "      <th>max</th>\n",
       "      <td>0.855000</td>\n",
       "      <td>0.935000</td>\n",
       "      <td>11.000000</td>\n",
       "      <td>-3.280000</td>\n",
       "      <td>0.93400</td>\n",
       "      <td>0.487000</td>\n",
       "      <td>0.657000</td>\n",
       "      <td>0.79200</td>\n",
       "      <td>0.925000</td>\n",
       "      <td>180.067000</td>\n",
       "      <td>312820.000000</td>\n",
       "    </tr>\n",
       "    <tr>\n",
       "      <th>std</th>\n",
       "      <td>0.154348</td>\n",
       "      <td>0.124975</td>\n",
       "      <td>3.709007</td>\n",
       "      <td>2.349744</td>\n",
       "      <td>0.26525</td>\n",
       "      <td>0.116836</td>\n",
       "      <td>0.094312</td>\n",
       "      <td>0.17661</td>\n",
       "      <td>0.216386</td>\n",
       "      <td>25.414778</td>\n",
       "      <td>33996.122488</td>\n",
       "    </tr>\n",
       "  </tbody>\n",
       "</table>\n",
       "</div>"
      ],
      "text/plain": [
       "          energy  danceability        key   loudness  acousticness  \\\n",
       "min     0.225000      0.351000   0.000000 -14.454000       0.00146   \n",
       "median  0.597000      0.746000   6.500000  -5.991500       0.18850   \n",
       "max     0.855000      0.935000  11.000000  -3.280000       0.93400   \n",
       "std     0.154348      0.124975   3.709007   2.349744       0.26525   \n",
       "\n",
       "        speechiness  instrumentalness  liveness   valence       tempo  \\\n",
       "min        0.029000          0.000000   0.05740  0.060500   75.801000   \n",
       "median     0.070050          0.000000   0.11100  0.560000  116.969000   \n",
       "max        0.487000          0.657000   0.79200  0.925000  180.067000   \n",
       "std        0.116836          0.094312   0.17661  0.216386   25.414778   \n",
       "\n",
       "          duration_ms  \n",
       "min     140526.000000  \n",
       "median  197853.500000  \n",
       "max     312820.000000  \n",
       "std      33996.122488  "
      ]
     },
     "execution_count": 9,
     "metadata": {},
     "output_type": "execute_result"
    }
   ],
   "source": [
    "dataset[numeric].agg([\"min\",\"median\",\"max\",\"std\"])"
   ]
  },
  {
   "cell_type": "markdown",
   "metadata": {},
   "source": [
    "We can see that some songs have high acousticness, speechiness and liveness values compared to the median. These values just seem to be at the top end, but they do not seem illogical.\n",
    "\n",
    "Also, most songs seem to have no instrumentalness value. This raises a question to how Spotify evaluates this specific feature in a song."
   ]
  },
  {
   "cell_type": "markdown",
   "metadata": {},
   "source": [
    "### Which (if any) artists have more than 1 popular track, and how many?"
   ]
  },
  {
   "cell_type": "code",
   "execution_count": 10,
   "metadata": {},
   "outputs": [
    {
     "data": {
      "text/plain": [
       "artist\n",
       "Dua Lipa         3\n",
       "Billie Eilish    3\n",
       "Travis Scott     3\n",
       "Harry Styles     2\n",
       "Lewis Capaldi    2\n",
       "Justin Bieber    2\n",
       "Post Malone      2\n",
       "Name: count, dtype: int64"
      ]
     },
     "execution_count": 10,
     "metadata": {},
     "output_type": "execute_result"
    }
   ],
   "source": [
    "popular_artists = dataset[\"artist\"].value_counts()\n",
    "popular_artists.head()\n",
    "popular_artists[popular_artists > 1]"
   ]
  },
  {
   "cell_type": "markdown",
   "metadata": {},
   "source": [
    "It seems like 7 artists that year appeared in the Top 50 more than once."
   ]
  },
  {
   "cell_type": "markdown",
   "metadata": {},
   "source": [
    "### Who was the most popular artist?"
   ]
  },
  {
   "cell_type": "code",
   "execution_count": 11,
   "metadata": {},
   "outputs": [
    {
     "name": "stdout",
     "output_type": "stream",
     "text": [
      "Most popular artist(s): Dua Lipa, Billie Eilish, Travis Scott\n"
     ]
    }
   ],
   "source": [
    "most_popular_artists = popular_artists[popular_artists == popular_artists.max()]\n",
    "print(f\"Most popular artist(s): {', '.join(most_popular_artists.index)}\")"
   ]
  },
  {
   "cell_type": "markdown",
   "metadata": {},
   "source": [
    "A total of 3 artists stood in the top with the same number of songs appearing in the Top 50."
   ]
  },
  {
   "cell_type": "markdown",
   "metadata": {},
   "source": [
    "### How many artists in total have their songs in the Top 50?"
   ]
  },
  {
   "cell_type": "code",
   "execution_count": 12,
   "metadata": {},
   "outputs": [
    {
     "data": {
      "text/plain": [
       "40"
      ]
     },
     "execution_count": 12,
     "metadata": {},
     "output_type": "execute_result"
    }
   ],
   "source": [
    "len(popular_artists)"
   ]
  },
  {
   "cell_type": "markdown",
   "metadata": {},
   "source": [
    "In total we had 40 different artists that had their songs in the Top 50."
   ]
  },
  {
   "cell_type": "markdown",
   "metadata": {},
   "source": [
    "### Which (if any) albums have more than 1 popular track, and how many?"
   ]
  },
  {
   "cell_type": "code",
   "execution_count": 13,
   "metadata": {},
   "outputs": [
    {
     "data": {
      "text/plain": [
       "album\n",
       "Future Nostalgia        3\n",
       "Hollywood's Bleeding    2\n",
       "Fine Line               2\n",
       "Changes                 2\n",
       "Name: count, dtype: int64"
      ]
     },
     "execution_count": 13,
     "metadata": {},
     "output_type": "execute_result"
    }
   ],
   "source": [
    "popular_albums = dataset[\"album\"].value_counts()\n",
    "popular_albums[popular_albums > 1]"
   ]
  },
  {
   "cell_type": "markdown",
   "metadata": {},
   "source": [
    "Since we had 7 artists appear in the Top 50 more than once, there's no surprise that some of their most popular songs came from the same albums."
   ]
  },
  {
   "cell_type": "markdown",
   "metadata": {},
   "source": [
    "### How many albums in total have their songs in the Top 50?"
   ]
  },
  {
   "cell_type": "code",
   "execution_count": 14,
   "metadata": {},
   "outputs": [
    {
     "data": {
      "text/plain": [
       "45"
      ]
     },
     "execution_count": 14,
     "metadata": {},
     "output_type": "execute_result"
    }
   ],
   "source": [
    "len(popular_albums)"
   ]
  },
  {
   "cell_type": "markdown",
   "metadata": {},
   "source": [
    "A total of 45 unique albums - this matches the fact that some albums appeared in the Top 50 more than once."
   ]
  },
  {
   "cell_type": "markdown",
   "metadata": {},
   "source": [
    "### Which tracks have a danceability score above 0.7?"
   ]
  },
  {
   "cell_type": "code",
   "execution_count": 15,
   "metadata": {},
   "outputs": [
    {
     "data": {
      "text/html": [
       "<div>\n",
       "<style scoped>\n",
       "    .dataframe tbody tr th:only-of-type {\n",
       "        vertical-align: middle;\n",
       "    }\n",
       "\n",
       "    .dataframe tbody tr th {\n",
       "        vertical-align: top;\n",
       "    }\n",
       "\n",
       "    .dataframe thead th {\n",
       "        text-align: right;\n",
       "    }\n",
       "</style>\n",
       "<table border=\"1\" class=\"dataframe\">\n",
       "  <thead>\n",
       "    <tr style=\"text-align: right;\">\n",
       "      <th></th>\n",
       "      <th>artist</th>\n",
       "      <th>album</th>\n",
       "      <th>genre</th>\n",
       "    </tr>\n",
       "    <tr>\n",
       "      <th>track name</th>\n",
       "      <th></th>\n",
       "      <th></th>\n",
       "      <th></th>\n",
       "    </tr>\n",
       "  </thead>\n",
       "  <tbody>\n",
       "    <tr>\n",
       "      <th>Dance Monkey</th>\n",
       "      <td>Tones And I</td>\n",
       "      <td>Dance Monkey</td>\n",
       "      <td>[Alternative, Indie]</td>\n",
       "    </tr>\n",
       "    <tr>\n",
       "      <th>The Box</th>\n",
       "      <td>Roddy Ricch</td>\n",
       "      <td>Please Excuse Me For Being Antisocial</td>\n",
       "      <td>[Hip-Hop, Rap]</td>\n",
       "    </tr>\n",
       "    <tr>\n",
       "      <th>Roses - Imanbek Remix</th>\n",
       "      <td>SAINt JHN</td>\n",
       "      <td>Roses (Imanbek Remix)</td>\n",
       "      <td>[Dance, Electronic]</td>\n",
       "    </tr>\n",
       "    <tr>\n",
       "      <th>Don't Start Now</th>\n",
       "      <td>Dua Lipa</td>\n",
       "      <td>Future Nostalgia</td>\n",
       "      <td>[Nu-Disco]</td>\n",
       "    </tr>\n",
       "    <tr>\n",
       "      <th>ROCKSTAR (feat. Roddy Ricch)</th>\n",
       "      <td>DaBaby</td>\n",
       "      <td>BLAME IT ON BABY</td>\n",
       "      <td>[Hip-Hop, Rap]</td>\n",
       "    </tr>\n",
       "    <tr>\n",
       "      <th>death bed (coffee for your head)</th>\n",
       "      <td>Powfu</td>\n",
       "      <td>death bed (coffee for your head)</td>\n",
       "      <td>[Hip-Hop, Rap]</td>\n",
       "    </tr>\n",
       "    <tr>\n",
       "      <th>Falling</th>\n",
       "      <td>Trevor Daniel</td>\n",
       "      <td>Nicotine</td>\n",
       "      <td>[R&amp;B, Hip-Hop Alternative]</td>\n",
       "    </tr>\n",
       "    <tr>\n",
       "      <th>Tusa</th>\n",
       "      <td>KAROL G</td>\n",
       "      <td>Tusa</td>\n",
       "      <td>[Pop]</td>\n",
       "    </tr>\n",
       "    <tr>\n",
       "      <th>Blueberry Faygo</th>\n",
       "      <td>Lil Mosey</td>\n",
       "      <td>Certified Hitmaker</td>\n",
       "      <td>[Hip-Hop, Rap]</td>\n",
       "    </tr>\n",
       "    <tr>\n",
       "      <th>Intentions (feat. Quavo)</th>\n",
       "      <td>Justin Bieber</td>\n",
       "      <td>Changes</td>\n",
       "      <td>[Pop]</td>\n",
       "    </tr>\n",
       "    <tr>\n",
       "      <th>Toosie Slide</th>\n",
       "      <td>Drake</td>\n",
       "      <td>Dark Lane Demo Tapes</td>\n",
       "      <td>[Hip-Hop, Rap]</td>\n",
       "    </tr>\n",
       "    <tr>\n",
       "      <th>Say So</th>\n",
       "      <td>Doja Cat</td>\n",
       "      <td>Hot Pink</td>\n",
       "      <td>[R&amp;B, Soul]</td>\n",
       "    </tr>\n",
       "    <tr>\n",
       "      <th>Memories</th>\n",
       "      <td>Maroon 5</td>\n",
       "      <td>Memories</td>\n",
       "      <td>[Pop]</td>\n",
       "    </tr>\n",
       "    <tr>\n",
       "      <th>Life Is Good (feat. Drake)</th>\n",
       "      <td>Future</td>\n",
       "      <td>High Off Life</td>\n",
       "      <td>[Hip-Hop, Rap]</td>\n",
       "    </tr>\n",
       "    <tr>\n",
       "      <th>Savage Love (Laxed - Siren Beat)</th>\n",
       "      <td>Jawsh 685</td>\n",
       "      <td>Savage Love (Laxed - Siren Beat)</td>\n",
       "      <td>[Hip-Hop, Rap]</td>\n",
       "    </tr>\n",
       "    <tr>\n",
       "      <th>Breaking Me</th>\n",
       "      <td>Topic</td>\n",
       "      <td>Breaking Me</td>\n",
       "      <td>[Dance, Electronic]</td>\n",
       "    </tr>\n",
       "    <tr>\n",
       "      <th>everything i wanted</th>\n",
       "      <td>Billie Eilish</td>\n",
       "      <td>everything i wanted</td>\n",
       "      <td>[Pop]</td>\n",
       "    </tr>\n",
       "    <tr>\n",
       "      <th>Señorita</th>\n",
       "      <td>Shawn Mendes</td>\n",
       "      <td>Shawn Mendes (Deluxe)</td>\n",
       "      <td>[Pop]</td>\n",
       "    </tr>\n",
       "    <tr>\n",
       "      <th>bad guy</th>\n",
       "      <td>Billie Eilish</td>\n",
       "      <td>WHEN WE ALL FALL ASLEEP, WHERE DO WE GO?</td>\n",
       "      <td>[Electro-Pop]</td>\n",
       "    </tr>\n",
       "    <tr>\n",
       "      <th>WAP (feat. Megan Thee Stallion)</th>\n",
       "      <td>Cardi B</td>\n",
       "      <td>WAP (feat. Megan Thee Stallion)</td>\n",
       "      <td>[Hip-Hop, Trap]</td>\n",
       "    </tr>\n",
       "    <tr>\n",
       "      <th>Sunday Best</th>\n",
       "      <td>Surfaces</td>\n",
       "      <td>Where the Light Is</td>\n",
       "      <td>[Electro-Pop]</td>\n",
       "    </tr>\n",
       "    <tr>\n",
       "      <th>Godzilla (feat. Juice WRLD)</th>\n",
       "      <td>Eminem</td>\n",
       "      <td>Music To Be Murdered By</td>\n",
       "      <td>[Hip-Hop, Rap]</td>\n",
       "    </tr>\n",
       "    <tr>\n",
       "      <th>Break My Heart</th>\n",
       "      <td>Dua Lipa</td>\n",
       "      <td>Future Nostalgia</td>\n",
       "      <td>[Dance-Pop, Disco]</td>\n",
       "    </tr>\n",
       "    <tr>\n",
       "      <th>Dynamite</th>\n",
       "      <td>BTS</td>\n",
       "      <td>Dynamite (DayTime Version)</td>\n",
       "      <td>[Disco-Pop]</td>\n",
       "    </tr>\n",
       "    <tr>\n",
       "      <th>Supalonely (feat. Gus Dapperton)</th>\n",
       "      <td>BENEE</td>\n",
       "      <td>Hey u x</td>\n",
       "      <td>[Alternative, Indie]</td>\n",
       "    </tr>\n",
       "    <tr>\n",
       "      <th>Sunflower - Spider-Man: Into the Spider-Verse</th>\n",
       "      <td>Post Malone</td>\n",
       "      <td>Hollywood's Bleeding</td>\n",
       "      <td>[Dreampop, Hip-Hop, R&amp;B]</td>\n",
       "    </tr>\n",
       "    <tr>\n",
       "      <th>Hawái</th>\n",
       "      <td>Maluma</td>\n",
       "      <td>PAPI JUANCHO</td>\n",
       "      <td>[Pop]</td>\n",
       "    </tr>\n",
       "    <tr>\n",
       "      <th>Ride It</th>\n",
       "      <td>Regard</td>\n",
       "      <td>Ride It</td>\n",
       "      <td>[Dance, Electronic]</td>\n",
       "    </tr>\n",
       "    <tr>\n",
       "      <th>goosebumps</th>\n",
       "      <td>Travis Scott</td>\n",
       "      <td>Birds In The Trap Sing McKnight</td>\n",
       "      <td>[Hip-Hop, Rap]</td>\n",
       "    </tr>\n",
       "    <tr>\n",
       "      <th>RITMO (Bad Boys For Life)</th>\n",
       "      <td>Black Eyed Peas</td>\n",
       "      <td>Translation</td>\n",
       "      <td>[Pop]</td>\n",
       "    </tr>\n",
       "    <tr>\n",
       "      <th>THE SCOTTS</th>\n",
       "      <td>THE SCOTTS</td>\n",
       "      <td>THE SCOTTS</td>\n",
       "      <td>[Hip-Hop, Rap]</td>\n",
       "    </tr>\n",
       "    <tr>\n",
       "      <th>SICKO MODE</th>\n",
       "      <td>Travis Scott</td>\n",
       "      <td>ASTROWORLD</td>\n",
       "      <td>[Hip-Hop, Rap]</td>\n",
       "    </tr>\n",
       "  </tbody>\n",
       "</table>\n",
       "</div>"
      ],
      "text/plain": [
       "                                                        artist  \\\n",
       "track name                                                       \n",
       "Dance Monkey                                       Tones And I   \n",
       "The Box                                            Roddy Ricch   \n",
       "Roses - Imanbek Remix                                SAINt JHN   \n",
       "Don't Start Now                                       Dua Lipa   \n",
       "ROCKSTAR (feat. Roddy Ricch)                            DaBaby   \n",
       "death bed (coffee for your head)                         Powfu   \n",
       "Falling                                          Trevor Daniel   \n",
       "Tusa                                                   KAROL G   \n",
       "Blueberry Faygo                                      Lil Mosey   \n",
       "Intentions (feat. Quavo)                         Justin Bieber   \n",
       "Toosie Slide                                             Drake   \n",
       "Say So                                                Doja Cat   \n",
       "Memories                                              Maroon 5   \n",
       "Life Is Good (feat. Drake)                              Future   \n",
       "Savage Love (Laxed - Siren Beat)                     Jawsh 685   \n",
       "Breaking Me                                              Topic   \n",
       "everything i wanted                              Billie Eilish   \n",
       "Señorita                                          Shawn Mendes   \n",
       "bad guy                                          Billie Eilish   \n",
       "WAP (feat. Megan Thee Stallion)                        Cardi B   \n",
       "Sunday Best                                           Surfaces   \n",
       "Godzilla (feat. Juice WRLD)                             Eminem   \n",
       "Break My Heart                                        Dua Lipa   \n",
       "Dynamite                                                   BTS   \n",
       "Supalonely (feat. Gus Dapperton)                         BENEE   \n",
       "Sunflower - Spider-Man: Into the Spider-Verse      Post Malone   \n",
       "Hawái                                                   Maluma   \n",
       "Ride It                                                 Regard   \n",
       "goosebumps                                        Travis Scott   \n",
       "RITMO (Bad Boys For Life)                      Black Eyed Peas   \n",
       "THE SCOTTS                                          THE SCOTTS   \n",
       "SICKO MODE                                        Travis Scott   \n",
       "\n",
       "                                                                                  album  \\\n",
       "track name                                                                                \n",
       "Dance Monkey                                                               Dance Monkey   \n",
       "The Box                                           Please Excuse Me For Being Antisocial   \n",
       "Roses - Imanbek Remix                                             Roses (Imanbek Remix)   \n",
       "Don't Start Now                                                        Future Nostalgia   \n",
       "ROCKSTAR (feat. Roddy Ricch)                                           BLAME IT ON BABY   \n",
       "death bed (coffee for your head)                       death bed (coffee for your head)   \n",
       "Falling                                                                        Nicotine   \n",
       "Tusa                                                                               Tusa   \n",
       "Blueberry Faygo                                                      Certified Hitmaker   \n",
       "Intentions (feat. Quavo)                                                        Changes   \n",
       "Toosie Slide                                                       Dark Lane Demo Tapes   \n",
       "Say So                                                                         Hot Pink   \n",
       "Memories                                                                       Memories   \n",
       "Life Is Good (feat. Drake)                                                High Off Life   \n",
       "Savage Love (Laxed - Siren Beat)                       Savage Love (Laxed - Siren Beat)   \n",
       "Breaking Me                                                                 Breaking Me   \n",
       "everything i wanted                                                 everything i wanted   \n",
       "Señorita                                                          Shawn Mendes (Deluxe)   \n",
       "bad guy                                        WHEN WE ALL FALL ASLEEP, WHERE DO WE GO?   \n",
       "WAP (feat. Megan Thee Stallion)                         WAP (feat. Megan Thee Stallion)   \n",
       "Sunday Best                                                          Where the Light Is   \n",
       "Godzilla (feat. Juice WRLD)                                     Music To Be Murdered By   \n",
       "Break My Heart                                                         Future Nostalgia   \n",
       "Dynamite                                                     Dynamite (DayTime Version)   \n",
       "Supalonely (feat. Gus Dapperton)                                                Hey u x   \n",
       "Sunflower - Spider-Man: Into the Spider-Verse                      Hollywood's Bleeding   \n",
       "Hawái                                                                      PAPI JUANCHO   \n",
       "Ride It                                                                         Ride It   \n",
       "goosebumps                                              Birds In The Trap Sing McKnight   \n",
       "RITMO (Bad Boys For Life)                                                   Translation   \n",
       "THE SCOTTS                                                                   THE SCOTTS   \n",
       "SICKO MODE                                                                   ASTROWORLD   \n",
       "\n",
       "                                                                    genre  \n",
       "track name                                                                 \n",
       "Dance Monkey                                         [Alternative, Indie]  \n",
       "The Box                                                    [Hip-Hop, Rap]  \n",
       "Roses - Imanbek Remix                                 [Dance, Electronic]  \n",
       "Don't Start Now                                                [Nu-Disco]  \n",
       "ROCKSTAR (feat. Roddy Ricch)                               [Hip-Hop, Rap]  \n",
       "death bed (coffee for your head)                           [Hip-Hop, Rap]  \n",
       "Falling                                        [R&B, Hip-Hop Alternative]  \n",
       "Tusa                                                                [Pop]  \n",
       "Blueberry Faygo                                            [Hip-Hop, Rap]  \n",
       "Intentions (feat. Quavo)                                            [Pop]  \n",
       "Toosie Slide                                               [Hip-Hop, Rap]  \n",
       "Say So                                                        [R&B, Soul]  \n",
       "Memories                                                            [Pop]  \n",
       "Life Is Good (feat. Drake)                                 [Hip-Hop, Rap]  \n",
       "Savage Love (Laxed - Siren Beat)                           [Hip-Hop, Rap]  \n",
       "Breaking Me                                           [Dance, Electronic]  \n",
       "everything i wanted                                                 [Pop]  \n",
       "Señorita                                                            [Pop]  \n",
       "bad guy                                                     [Electro-Pop]  \n",
       "WAP (feat. Megan Thee Stallion)                           [Hip-Hop, Trap]  \n",
       "Sunday Best                                                 [Electro-Pop]  \n",
       "Godzilla (feat. Juice WRLD)                                [Hip-Hop, Rap]  \n",
       "Break My Heart                                         [Dance-Pop, Disco]  \n",
       "Dynamite                                                      [Disco-Pop]  \n",
       "Supalonely (feat. Gus Dapperton)                     [Alternative, Indie]  \n",
       "Sunflower - Spider-Man: Into the Spider-Verse    [Dreampop, Hip-Hop, R&B]  \n",
       "Hawái                                                               [Pop]  \n",
       "Ride It                                               [Dance, Electronic]  \n",
       "goosebumps                                                 [Hip-Hop, Rap]  \n",
       "RITMO (Bad Boys For Life)                                           [Pop]  \n",
       "THE SCOTTS                                                 [Hip-Hop, Rap]  \n",
       "SICKO MODE                                                 [Hip-Hop, Rap]  "
      ]
     },
     "execution_count": 15,
     "metadata": {},
     "output_type": "execute_result"
    }
   ],
   "source": [
    "danceability_above_tresh = dataset[\"danceability\"] > 0.7\n",
    "clean_dataset[danceability_above_tresh].set_index(\"track name\")"
   ]
  },
  {
   "cell_type": "markdown",
   "metadata": {},
   "source": [
    "It seems like quite a lot of tracks had a high danceability value. Looking at it quickly, it seems like the Hip-Hop and Pop genres take up the majority."
   ]
  },
  {
   "cell_type": "markdown",
   "metadata": {},
   "source": [
    "### Which tracks have a danceability score below 0.4?"
   ]
  },
  {
   "cell_type": "code",
   "execution_count": 16,
   "metadata": {},
   "outputs": [
    {
     "data": {
      "text/html": [
       "<div>\n",
       "<style scoped>\n",
       "    .dataframe tbody tr th:only-of-type {\n",
       "        vertical-align: middle;\n",
       "    }\n",
       "\n",
       "    .dataframe tbody tr th {\n",
       "        vertical-align: top;\n",
       "    }\n",
       "\n",
       "    .dataframe thead th {\n",
       "        text-align: right;\n",
       "    }\n",
       "</style>\n",
       "<table border=\"1\" class=\"dataframe\">\n",
       "  <thead>\n",
       "    <tr style=\"text-align: right;\">\n",
       "      <th></th>\n",
       "      <th>artist</th>\n",
       "      <th>album</th>\n",
       "      <th>genre</th>\n",
       "    </tr>\n",
       "    <tr>\n",
       "      <th>track name</th>\n",
       "      <th></th>\n",
       "      <th></th>\n",
       "      <th></th>\n",
       "    </tr>\n",
       "  </thead>\n",
       "  <tbody>\n",
       "    <tr>\n",
       "      <th>lovely (with Khalid)</th>\n",
       "      <td>Billie Eilish</td>\n",
       "      <td>lovely (with Khalid)</td>\n",
       "      <td>[Chamber Pop]</td>\n",
       "    </tr>\n",
       "  </tbody>\n",
       "</table>\n",
       "</div>"
      ],
      "text/plain": [
       "                             artist                 album          genre\n",
       "track name                                                              \n",
       "lovely (with Khalid)  Billie Eilish  lovely (with Khalid)  [Chamber Pop]"
      ]
     },
     "execution_count": 16,
     "metadata": {},
     "output_type": "execute_result"
    }
   ],
   "source": [
    "danceability_below_tresh = dataset[\"danceability\"] < 0.4\n",
    "clean_dataset[danceability_below_tresh].set_index(\"track name\")"
   ]
  },
  {
   "cell_type": "markdown",
   "metadata": {},
   "source": [
    "Only one track, with the genre of Chamber Pop seems to have such a low danceability value. However, we would need a bigger dataset specified to this genre to make accurate conclusions about how this genre relates to danceability."
   ]
  },
  {
   "cell_type": "markdown",
   "metadata": {},
   "source": [
    "### Which tracks have their loudness above -5?"
   ]
  },
  {
   "cell_type": "code",
   "execution_count": 17,
   "metadata": {},
   "outputs": [
    {
     "data": {
      "text/html": [
       "<div>\n",
       "<style scoped>\n",
       "    .dataframe tbody tr th:only-of-type {\n",
       "        vertical-align: middle;\n",
       "    }\n",
       "\n",
       "    .dataframe tbody tr th {\n",
       "        vertical-align: top;\n",
       "    }\n",
       "\n",
       "    .dataframe thead th {\n",
       "        text-align: right;\n",
       "    }\n",
       "</style>\n",
       "<table border=\"1\" class=\"dataframe\">\n",
       "  <thead>\n",
       "    <tr style=\"text-align: right;\">\n",
       "      <th></th>\n",
       "      <th>artist</th>\n",
       "      <th>album</th>\n",
       "      <th>genre</th>\n",
       "    </tr>\n",
       "    <tr>\n",
       "      <th>track name</th>\n",
       "      <th></th>\n",
       "      <th></th>\n",
       "      <th></th>\n",
       "    </tr>\n",
       "  </thead>\n",
       "  <tbody>\n",
       "    <tr>\n",
       "      <th>Don't Start Now</th>\n",
       "      <td>Dua Lipa</td>\n",
       "      <td>Future Nostalgia</td>\n",
       "      <td>[Nu-Disco]</td>\n",
       "    </tr>\n",
       "    <tr>\n",
       "      <th>Watermelon Sugar</th>\n",
       "      <td>Harry Styles</td>\n",
       "      <td>Fine Line</td>\n",
       "      <td>[Pop]</td>\n",
       "    </tr>\n",
       "    <tr>\n",
       "      <th>Tusa</th>\n",
       "      <td>KAROL G</td>\n",
       "      <td>Tusa</td>\n",
       "      <td>[Pop]</td>\n",
       "    </tr>\n",
       "    <tr>\n",
       "      <th>Circles</th>\n",
       "      <td>Post Malone</td>\n",
       "      <td>Hollywood's Bleeding</td>\n",
       "      <td>[Pop, Soft Rock]</td>\n",
       "    </tr>\n",
       "    <tr>\n",
       "      <th>Before You Go</th>\n",
       "      <td>Lewis Capaldi</td>\n",
       "      <td>Divinely Uninspired To A Hellish Extent (Exten...</td>\n",
       "      <td>[Alternative, Indie]</td>\n",
       "    </tr>\n",
       "    <tr>\n",
       "      <th>Say So</th>\n",
       "      <td>Doja Cat</td>\n",
       "      <td>Hot Pink</td>\n",
       "      <td>[R&amp;B, Soul]</td>\n",
       "    </tr>\n",
       "    <tr>\n",
       "      <th>Adore You</th>\n",
       "      <td>Harry Styles</td>\n",
       "      <td>Fine Line</td>\n",
       "      <td>[Pop]</td>\n",
       "    </tr>\n",
       "    <tr>\n",
       "      <th>Mood (feat. iann dior)</th>\n",
       "      <td>24kGoldn</td>\n",
       "      <td>Mood (feat. iann dior)</td>\n",
       "      <td>[Pop Rap]</td>\n",
       "    </tr>\n",
       "    <tr>\n",
       "      <th>Break My Heart</th>\n",
       "      <td>Dua Lipa</td>\n",
       "      <td>Future Nostalgia</td>\n",
       "      <td>[Dance-Pop, Disco]</td>\n",
       "    </tr>\n",
       "    <tr>\n",
       "      <th>Dynamite</th>\n",
       "      <td>BTS</td>\n",
       "      <td>Dynamite (DayTime Version)</td>\n",
       "      <td>[Disco-Pop]</td>\n",
       "    </tr>\n",
       "    <tr>\n",
       "      <th>Supalonely (feat. Gus Dapperton)</th>\n",
       "      <td>BENEE</td>\n",
       "      <td>Hey u x</td>\n",
       "      <td>[Alternative, Indie]</td>\n",
       "    </tr>\n",
       "    <tr>\n",
       "      <th>Rain On Me (with Ariana Grande)</th>\n",
       "      <td>Lady Gaga</td>\n",
       "      <td>Chromatica</td>\n",
       "      <td>[Pop]</td>\n",
       "    </tr>\n",
       "    <tr>\n",
       "      <th>Sunflower - Spider-Man: Into the Spider-Verse</th>\n",
       "      <td>Post Malone</td>\n",
       "      <td>Hollywood's Bleeding</td>\n",
       "      <td>[Dreampop, Hip-Hop, R&amp;B]</td>\n",
       "    </tr>\n",
       "    <tr>\n",
       "      <th>Hawái</th>\n",
       "      <td>Maluma</td>\n",
       "      <td>PAPI JUANCHO</td>\n",
       "      <td>[Pop]</td>\n",
       "    </tr>\n",
       "    <tr>\n",
       "      <th>Ride It</th>\n",
       "      <td>Regard</td>\n",
       "      <td>Ride It</td>\n",
       "      <td>[Dance, Electronic]</td>\n",
       "    </tr>\n",
       "    <tr>\n",
       "      <th>goosebumps</th>\n",
       "      <td>Travis Scott</td>\n",
       "      <td>Birds In The Trap Sing McKnight</td>\n",
       "      <td>[Hip-Hop, Rap]</td>\n",
       "    </tr>\n",
       "    <tr>\n",
       "      <th>Safaera</th>\n",
       "      <td>Bad Bunny</td>\n",
       "      <td>YHLQMDLG</td>\n",
       "      <td>[Alternative, Reggaeton, Experimental]</td>\n",
       "    </tr>\n",
       "    <tr>\n",
       "      <th>Physical</th>\n",
       "      <td>Dua Lipa</td>\n",
       "      <td>Future Nostalgia</td>\n",
       "      <td>[Dance, Electronic]</td>\n",
       "    </tr>\n",
       "    <tr>\n",
       "      <th>SICKO MODE</th>\n",
       "      <td>Travis Scott</td>\n",
       "      <td>ASTROWORLD</td>\n",
       "      <td>[Hip-Hop, Rap]</td>\n",
       "    </tr>\n",
       "  </tbody>\n",
       "</table>\n",
       "</div>"
      ],
      "text/plain": [
       "                                                      artist  \\\n",
       "track name                                                     \n",
       "Don't Start Now                                     Dua Lipa   \n",
       "Watermelon Sugar                                Harry Styles   \n",
       "Tusa                                                 KAROL G   \n",
       "Circles                                          Post Malone   \n",
       "Before You Go                                  Lewis Capaldi   \n",
       "Say So                                              Doja Cat   \n",
       "Adore You                                       Harry Styles   \n",
       "Mood (feat. iann dior)                              24kGoldn   \n",
       "Break My Heart                                      Dua Lipa   \n",
       "Dynamite                                                 BTS   \n",
       "Supalonely (feat. Gus Dapperton)                       BENEE   \n",
       "Rain On Me (with Ariana Grande)                    Lady Gaga   \n",
       "Sunflower - Spider-Man: Into the Spider-Verse    Post Malone   \n",
       "Hawái                                                 Maluma   \n",
       "Ride It                                               Regard   \n",
       "goosebumps                                      Travis Scott   \n",
       "Safaera                                            Bad Bunny   \n",
       "Physical                                            Dua Lipa   \n",
       "SICKO MODE                                      Travis Scott   \n",
       "\n",
       "                                                                                           album  \\\n",
       "track name                                                                                         \n",
       "Don't Start Now                                                                 Future Nostalgia   \n",
       "Watermelon Sugar                                                                       Fine Line   \n",
       "Tusa                                                                                        Tusa   \n",
       "Circles                                                                     Hollywood's Bleeding   \n",
       "Before You Go                                  Divinely Uninspired To A Hellish Extent (Exten...   \n",
       "Say So                                                                                  Hot Pink   \n",
       "Adore You                                                                              Fine Line   \n",
       "Mood (feat. iann dior)                                                    Mood (feat. iann dior)   \n",
       "Break My Heart                                                                  Future Nostalgia   \n",
       "Dynamite                                                              Dynamite (DayTime Version)   \n",
       "Supalonely (feat. Gus Dapperton)                                                         Hey u x   \n",
       "Rain On Me (with Ariana Grande)                                                       Chromatica   \n",
       "Sunflower - Spider-Man: Into the Spider-Verse                               Hollywood's Bleeding   \n",
       "Hawái                                                                               PAPI JUANCHO   \n",
       "Ride It                                                                                  Ride It   \n",
       "goosebumps                                                       Birds In The Trap Sing McKnight   \n",
       "Safaera                                                                                 YHLQMDLG   \n",
       "Physical                                                                        Future Nostalgia   \n",
       "SICKO MODE                                                                            ASTROWORLD   \n",
       "\n",
       "                                                                                genre  \n",
       "track name                                                                             \n",
       "Don't Start Now                                                            [Nu-Disco]  \n",
       "Watermelon Sugar                                                                [Pop]  \n",
       "Tusa                                                                            [Pop]  \n",
       "Circles                                                              [Pop, Soft Rock]  \n",
       "Before You Go                                                    [Alternative, Indie]  \n",
       "Say So                                                                    [R&B, Soul]  \n",
       "Adore You                                                                       [Pop]  \n",
       "Mood (feat. iann dior)                                                      [Pop Rap]  \n",
       "Break My Heart                                                     [Dance-Pop, Disco]  \n",
       "Dynamite                                                                  [Disco-Pop]  \n",
       "Supalonely (feat. Gus Dapperton)                                 [Alternative, Indie]  \n",
       "Rain On Me (with Ariana Grande)                                                 [Pop]  \n",
       "Sunflower - Spider-Man: Into the Spider-Verse                [Dreampop, Hip-Hop, R&B]  \n",
       "Hawái                                                                           [Pop]  \n",
       "Ride It                                                           [Dance, Electronic]  \n",
       "goosebumps                                                             [Hip-Hop, Rap]  \n",
       "Safaera                                        [Alternative, Reggaeton, Experimental]  \n",
       "Physical                                                          [Dance, Electronic]  \n",
       "SICKO MODE                                                             [Hip-Hop, Rap]  "
      ]
     },
     "execution_count": 17,
     "metadata": {},
     "output_type": "execute_result"
    }
   ],
   "source": [
    "loudness_above_tresh = dataset[\"loudness\"] > -5\n",
    "clean_dataset[loudness_above_tresh].set_index(\"track name\")"
   ]
  },
  {
   "cell_type": "markdown",
   "metadata": {},
   "source": [
    "The higher the loudness value is, the louder the song is. It seems like quite a lot of songs had a higher loudness value, and Dua Lipa seems to have the most tracks in this treshold."
   ]
  },
  {
   "cell_type": "markdown",
   "metadata": {},
   "source": [
    "### Which tracks have their loudness below -8?"
   ]
  },
  {
   "cell_type": "code",
   "execution_count": 18,
   "metadata": {},
   "outputs": [
    {
     "data": {
      "text/html": [
       "<div>\n",
       "<style scoped>\n",
       "    .dataframe tbody tr th:only-of-type {\n",
       "        vertical-align: middle;\n",
       "    }\n",
       "\n",
       "    .dataframe tbody tr th {\n",
       "        vertical-align: top;\n",
       "    }\n",
       "\n",
       "    .dataframe thead th {\n",
       "        text-align: right;\n",
       "    }\n",
       "</style>\n",
       "<table border=\"1\" class=\"dataframe\">\n",
       "  <thead>\n",
       "    <tr style=\"text-align: right;\">\n",
       "      <th></th>\n",
       "      <th>artist</th>\n",
       "      <th>album</th>\n",
       "      <th>genre</th>\n",
       "    </tr>\n",
       "    <tr>\n",
       "      <th>track name</th>\n",
       "      <th></th>\n",
       "      <th></th>\n",
       "      <th></th>\n",
       "    </tr>\n",
       "  </thead>\n",
       "  <tbody>\n",
       "    <tr>\n",
       "      <th>death bed (coffee for your head)</th>\n",
       "      <td>Powfu</td>\n",
       "      <td>death bed (coffee for your head)</td>\n",
       "      <td>[Hip-Hop, Rap]</td>\n",
       "    </tr>\n",
       "    <tr>\n",
       "      <th>Falling</th>\n",
       "      <td>Trevor Daniel</td>\n",
       "      <td>Nicotine</td>\n",
       "      <td>[R&amp;B, Hip-Hop Alternative]</td>\n",
       "    </tr>\n",
       "    <tr>\n",
       "      <th>Toosie Slide</th>\n",
       "      <td>Drake</td>\n",
       "      <td>Dark Lane Demo Tapes</td>\n",
       "      <td>[Hip-Hop, Rap]</td>\n",
       "    </tr>\n",
       "    <tr>\n",
       "      <th>Savage Love (Laxed - Siren Beat)</th>\n",
       "      <td>Jawsh 685</td>\n",
       "      <td>Savage Love (Laxed - Siren Beat)</td>\n",
       "      <td>[Hip-Hop, Rap]</td>\n",
       "    </tr>\n",
       "    <tr>\n",
       "      <th>everything i wanted</th>\n",
       "      <td>Billie Eilish</td>\n",
       "      <td>everything i wanted</td>\n",
       "      <td>[Pop]</td>\n",
       "    </tr>\n",
       "    <tr>\n",
       "      <th>bad guy</th>\n",
       "      <td>Billie Eilish</td>\n",
       "      <td>WHEN WE ALL FALL ASLEEP, WHERE DO WE GO?</td>\n",
       "      <td>[Electro-Pop]</td>\n",
       "    </tr>\n",
       "    <tr>\n",
       "      <th>HIGHEST IN THE ROOM</th>\n",
       "      <td>Travis Scott</td>\n",
       "      <td>HIGHEST IN THE ROOM</td>\n",
       "      <td>[Hip-Hop, Rap]</td>\n",
       "    </tr>\n",
       "    <tr>\n",
       "      <th>lovely (with Khalid)</th>\n",
       "      <td>Billie Eilish</td>\n",
       "      <td>lovely (with Khalid)</td>\n",
       "      <td>[Chamber Pop]</td>\n",
       "    </tr>\n",
       "    <tr>\n",
       "      <th>If the World Was Ending - feat. Julia Michaels</th>\n",
       "      <td>JP Saxe</td>\n",
       "      <td>If the World Was Ending (feat. Julia Michaels)</td>\n",
       "      <td>[Pop]</td>\n",
       "    </tr>\n",
       "  </tbody>\n",
       "</table>\n",
       "</div>"
      ],
      "text/plain": [
       "                                                       artist  \\\n",
       "track name                                                      \n",
       "death bed (coffee for your head)                        Powfu   \n",
       "Falling                                         Trevor Daniel   \n",
       "Toosie Slide                                            Drake   \n",
       "Savage Love (Laxed - Siren Beat)                    Jawsh 685   \n",
       "everything i wanted                             Billie Eilish   \n",
       "bad guy                                         Billie Eilish   \n",
       "HIGHEST IN THE ROOM                              Travis Scott   \n",
       "lovely (with Khalid)                            Billie Eilish   \n",
       "If the World Was Ending - feat. Julia Michaels        JP Saxe   \n",
       "\n",
       "                                                                                         album  \\\n",
       "track name                                                                                       \n",
       "death bed (coffee for your head)                              death bed (coffee for your head)   \n",
       "Falling                                                                               Nicotine   \n",
       "Toosie Slide                                                              Dark Lane Demo Tapes   \n",
       "Savage Love (Laxed - Siren Beat)                              Savage Love (Laxed - Siren Beat)   \n",
       "everything i wanted                                                        everything i wanted   \n",
       "bad guy                                               WHEN WE ALL FALL ASLEEP, WHERE DO WE GO?   \n",
       "HIGHEST IN THE ROOM                                                        HIGHEST IN THE ROOM   \n",
       "lovely (with Khalid)                                                      lovely (with Khalid)   \n",
       "If the World Was Ending - feat. Julia Michaels  If the World Was Ending (feat. Julia Michaels)   \n",
       "\n",
       "                                                                     genre  \n",
       "track name                                                                  \n",
       "death bed (coffee for your head)                            [Hip-Hop, Rap]  \n",
       "Falling                                         [R&B, Hip-Hop Alternative]  \n",
       "Toosie Slide                                                [Hip-Hop, Rap]  \n",
       "Savage Love (Laxed - Siren Beat)                            [Hip-Hop, Rap]  \n",
       "everything i wanted                                                  [Pop]  \n",
       "bad guy                                                      [Electro-Pop]  \n",
       "HIGHEST IN THE ROOM                                         [Hip-Hop, Rap]  \n",
       "lovely (with Khalid)                                         [Chamber Pop]  \n",
       "If the World Was Ending - feat. Julia Michaels                       [Pop]  "
      ]
     },
     "execution_count": 18,
     "metadata": {},
     "output_type": "execute_result"
    }
   ],
   "source": [
    "loudness_below_tresh = dataset[\"loudness\"] < -8\n",
    "clean_dataset[loudness_below_tresh].set_index(\"track name\")"
   ]
  },
  {
   "cell_type": "markdown",
   "metadata": {},
   "source": [
    "These songs were not as loud as the previous ones, and it seems like Billie Eilish appeared the most here."
   ]
  },
  {
   "cell_type": "markdown",
   "metadata": {},
   "source": [
    "### Which track is the longest?"
   ]
  },
  {
   "cell_type": "code",
   "execution_count": 19,
   "metadata": {},
   "outputs": [
    {
     "name": "stdout",
     "output_type": "stream",
     "text": [
      "artist          Travis Scott\n",
      "album             ASTROWORLD\n",
      "track name        SICKO MODE\n",
      "genre         [Hip-Hop, Rap]\n",
      "Name: 49, dtype: object\n",
      "05:12\n"
     ]
    }
   ],
   "source": [
    "longest = dataset[\"duration_ms\"].idxmax()\n",
    "longest_info = clean_dataset.loc[longest]\n",
    "longest_length = pd.to_datetime(dataset.loc[longest][\"duration_ms\"], unit=\"ms\").strftime(\"%M:%S\")\n",
    "print(longest_info)\n",
    "print(longest_length)"
   ]
  },
  {
   "cell_type": "markdown",
   "metadata": {},
   "source": [
    "Seems like Travis Scott's SICKO MODE was the longest song in the list, with the length of 5:12."
   ]
  },
  {
   "cell_type": "markdown",
   "metadata": {},
   "source": [
    "### Which track is the shortest?"
   ]
  },
  {
   "cell_type": "code",
   "execution_count": 20,
   "metadata": {},
   "outputs": [
    {
     "name": "stdout",
     "output_type": "stream",
     "text": [
      "artist                      24kGoldn\n",
      "album         Mood (feat. iann dior)\n",
      "track name    Mood (feat. iann dior)\n",
      "genre                      [Pop Rap]\n",
      "Name: 23, dtype: object\n",
      "02:20\n"
     ]
    }
   ],
   "source": [
    "shortest = dataset[\"duration_ms\"].idxmin()\n",
    "shortest_info = clean_dataset.loc[shortest]\n",
    "shortest_length = pd.to_datetime(dataset.loc[shortest][\"duration_ms\"], unit=\"ms\").strftime(\"%M:%S\")\n",
    "print(shortest_info)\n",
    "print(shortest_length)"
   ]
  },
  {
   "cell_type": "markdown",
   "metadata": {},
   "source": [
    "Mood (feat. iann dior), by 24kGoldn, with the length of 2:20 was the shortest song in the Top 50."
   ]
  },
  {
   "cell_type": "markdown",
   "metadata": {},
   "source": [
    "### Which genre is the most popular?"
   ]
  },
  {
   "cell_type": "code",
   "execution_count": 21,
   "metadata": {},
   "outputs": [
    {
     "name": "stdout",
     "output_type": "stream",
     "text": [
      "Most popular genre(s): Hip-Hop, Pop\n"
     ]
    }
   ],
   "source": [
    "popular_genres = clean_dataset[\"genre\"].explode().value_counts()\n",
    "most_popular_genres = popular_genres[popular_genres == popular_genres.max()]\n",
    "print(f\"Most popular genre(s): {', '.join(most_popular_genres.index)}\")"
   ]
  },
  {
   "cell_type": "markdown",
   "metadata": {},
   "source": [
    "Seems like Hip-Hop and Pop were the most popular genres in 2020."
   ]
  },
  {
   "cell_type": "markdown",
   "metadata": {},
   "source": [
    "### Which genres have just one song on the Top 50?"
   ]
  },
  {
   "cell_type": "code",
   "execution_count": 22,
   "metadata": {},
   "outputs": [
    {
     "data": {
      "text/plain": [
       "['Nu-Disco',\n",
       " 'Hip-Hop Alternative',\n",
       " 'Soft Rock',\n",
       " 'Pop Rap',\n",
       " 'Trap',\n",
       " 'Dance-Pop',\n",
       " 'Disco',\n",
       " 'Disco-Pop',\n",
       " 'Dreampop',\n",
       " 'Reggaeton',\n",
       " 'Experimental',\n",
       " 'Chamber Pop']"
      ]
     },
     "execution_count": 22,
     "metadata": {},
     "output_type": "execute_result"
    }
   ],
   "source": [
    "popular_genres[popular_genres == 1].index.to_list()"
   ]
  },
  {
   "cell_type": "markdown",
   "metadata": {},
   "source": [
    "There seem to be quite a lot of niche or very specific genres in the Top 50, such as Dreampop or Nu-Disco."
   ]
  },
  {
   "cell_type": "markdown",
   "metadata": {},
   "source": [
    "### How many genres in total are represented in the top 50?"
   ]
  },
  {
   "cell_type": "code",
   "execution_count": 23,
   "metadata": {},
   "outputs": [
    {
     "data": {
      "text/plain": [
       "22"
      ]
     },
     "execution_count": 23,
     "metadata": {},
     "output_type": "execute_result"
    }
   ],
   "source": [
    "len(popular_genres)"
   ]
  },
  {
   "cell_type": "markdown",
   "metadata": {},
   "source": [
    "In total, we have 22 unique genres in the Top 50, which means nearly every 2nd song is of a unique genre."
   ]
  },
  {
   "cell_type": "markdown",
   "metadata": {},
   "source": [
    "### Which features are strongly positively correlated?"
   ]
  },
  {
   "cell_type": "code",
   "execution_count": 24,
   "metadata": {},
   "outputs": [
    {
     "data": {
      "text/plain": [
       "{('energy', 'loudness')}"
      ]
     },
     "execution_count": 24,
     "metadata": {},
     "output_type": "execute_result"
    }
   ],
   "source": [
    "correlations = dataset[numeric].corr()\n",
    "strong_positive_correlations = (correlations[(correlations > 0.5) & (correlations < 1)]\n",
    "                                .dropna(axis=\"rows\",how=\"all\")\n",
    "                                .dropna(axis=\"columns\",how=\"all\")\n",
    "                                )\n",
    "set(tuple(sorted(pair)) for pair in strong_positive_correlations.stack().index)"
   ]
  },
  {
   "cell_type": "markdown",
   "metadata": {},
   "source": [
    "We get energy-loudness correlation, which makes sense, since louder songs feel more energetic."
   ]
  },
  {
   "cell_type": "markdown",
   "metadata": {},
   "source": [
    "### Which features are strongly negatively correlated?"
   ]
  },
  {
   "cell_type": "code",
   "execution_count": 25,
   "metadata": {},
   "outputs": [
    {
     "data": {
      "text/plain": [
       "{('acousticness', 'energy'), ('instrumentalness', 'loudness')}"
      ]
     },
     "execution_count": 25,
     "metadata": {},
     "output_type": "execute_result"
    }
   ],
   "source": [
    "strong_negative_correlations = (correlations[(correlations < -0.5)]\n",
    "                                .dropna(axis=\"rows\",how=\"all\")\n",
    "                                .dropna(axis=\"columns\",how=\"all\")\n",
    "                                )\n",
    "set(tuple(sorted(pair)) for pair in strong_negative_correlations.stack().index)"
   ]
  },
  {
   "cell_type": "markdown",
   "metadata": {},
   "source": [
    "Acousticness with energy, as well as instrumentalness with loudness seem to be negatively correlated. It makes sense, as instrumental songs are usually more quiet, and acoustic songs are less energetic."
   ]
  },
  {
   "cell_type": "markdown",
   "metadata": {},
   "source": [
    "### Which features are not correlated?"
   ]
  },
  {
   "cell_type": "code",
   "execution_count": 26,
   "metadata": {},
   "outputs": [
    {
     "data": {
      "text/plain": [
       "{('acousticness', 'danceability'),\n",
       " ('acousticness', 'duration_ms'),\n",
       " ('acousticness', 'instrumentalness'),\n",
       " ('acousticness', 'key'),\n",
       " ('acousticness', 'liveness'),\n",
       " ('acousticness', 'loudness'),\n",
       " ('acousticness', 'speechiness'),\n",
       " ('acousticness', 'tempo'),\n",
       " ('acousticness', 'valence'),\n",
       " ('danceability', 'duration_ms'),\n",
       " ('danceability', 'energy'),\n",
       " ('danceability', 'instrumentalness'),\n",
       " ('danceability', 'key'),\n",
       " ('danceability', 'liveness'),\n",
       " ('danceability', 'loudness'),\n",
       " ('danceability', 'speechiness'),\n",
       " ('danceability', 'tempo'),\n",
       " ('danceability', 'valence'),\n",
       " ('duration_ms', 'energy'),\n",
       " ('duration_ms', 'instrumentalness'),\n",
       " ('duration_ms', 'key'),\n",
       " ('duration_ms', 'liveness'),\n",
       " ('duration_ms', 'loudness'),\n",
       " ('duration_ms', 'speechiness'),\n",
       " ('duration_ms', 'tempo'),\n",
       " ('duration_ms', 'valence'),\n",
       " ('energy', 'instrumentalness'),\n",
       " ('energy', 'key'),\n",
       " ('energy', 'liveness'),\n",
       " ('energy', 'speechiness'),\n",
       " ('energy', 'tempo'),\n",
       " ('energy', 'valence'),\n",
       " ('instrumentalness', 'key'),\n",
       " ('instrumentalness', 'liveness'),\n",
       " ('instrumentalness', 'speechiness'),\n",
       " ('instrumentalness', 'tempo'),\n",
       " ('instrumentalness', 'valence'),\n",
       " ('key', 'liveness'),\n",
       " ('key', 'loudness'),\n",
       " ('key', 'speechiness'),\n",
       " ('key', 'tempo'),\n",
       " ('key', 'valence'),\n",
       " ('liveness', 'loudness'),\n",
       " ('liveness', 'speechiness'),\n",
       " ('liveness', 'tempo'),\n",
       " ('liveness', 'valence'),\n",
       " ('loudness', 'speechiness'),\n",
       " ('loudness', 'tempo'),\n",
       " ('loudness', 'valence'),\n",
       " ('speechiness', 'tempo'),\n",
       " ('speechiness', 'valence'),\n",
       " ('tempo', 'valence')}"
      ]
     },
     "execution_count": 26,
     "metadata": {},
     "output_type": "execute_result"
    }
   ],
   "source": [
    "no_correlations = (correlations[(correlations >= -0.5) & (correlations <= 0.5)]\n",
    "                                .dropna(axis=\"rows\",how=\"all\")\n",
    "                                .dropna(axis=\"columns\",how=\"all\")\n",
    "                                )\n",
    "set(tuple(sorted(pair)) for pair in no_correlations.stack().index)"
   ]
  },
  {
   "cell_type": "markdown",
   "metadata": {},
   "source": [
    "The rest of the features (which there are a lot of combinations of) do not seem to have any notable correlations to each other."
   ]
  },
  {
   "cell_type": "markdown",
   "metadata": {},
   "source": [
    "### How does the danceability score compare between Pop, Hip-Hop/Rap, Dance/Electronic, and Alternative/Indie genres?"
   ]
  },
  {
   "cell_type": "code",
   "execution_count": 27,
   "metadata": {},
   "outputs": [
    {
     "data": {
      "text/html": [
       "<div>\n",
       "<style scoped>\n",
       "    .dataframe tbody tr th:only-of-type {\n",
       "        vertical-align: middle;\n",
       "    }\n",
       "\n",
       "    .dataframe tbody tr th {\n",
       "        vertical-align: top;\n",
       "    }\n",
       "\n",
       "    .dataframe thead th {\n",
       "        text-align: right;\n",
       "    }\n",
       "</style>\n",
       "<table border=\"1\" class=\"dataframe\">\n",
       "  <thead>\n",
       "    <tr style=\"text-align: right;\">\n",
       "      <th></th>\n",
       "      <th>mean</th>\n",
       "      <th>min</th>\n",
       "      <th>max</th>\n",
       "    </tr>\n",
       "    <tr>\n",
       "      <th>genre</th>\n",
       "      <th></th>\n",
       "      <th></th>\n",
       "      <th></th>\n",
       "    </tr>\n",
       "  </thead>\n",
       "  <tbody>\n",
       "    <tr>\n",
       "      <th>Alternative/Indie</th>\n",
       "      <td>0.661750</td>\n",
       "      <td>0.459</td>\n",
       "      <td>0.862</td>\n",
       "    </tr>\n",
       "    <tr>\n",
       "      <th>Pop</th>\n",
       "      <td>0.677571</td>\n",
       "      <td>0.464</td>\n",
       "      <td>0.806</td>\n",
       "    </tr>\n",
       "    <tr>\n",
       "      <th>Dance/Electronic</th>\n",
       "      <td>0.755000</td>\n",
       "      <td>0.647</td>\n",
       "      <td>0.880</td>\n",
       "    </tr>\n",
       "    <tr>\n",
       "      <th>Hip-Hop/Rap</th>\n",
       "      <td>0.765538</td>\n",
       "      <td>0.598</td>\n",
       "      <td>0.896</td>\n",
       "    </tr>\n",
       "  </tbody>\n",
       "</table>\n",
       "</div>"
      ],
      "text/plain": [
       "                       mean    min    max\n",
       "genre                                    \n",
       "Alternative/Indie  0.661750  0.459  0.862\n",
       "Pop                0.677571  0.464  0.806\n",
       "Dance/Electronic   0.755000  0.647  0.880\n",
       "Hip-Hop/Rap        0.765538  0.598  0.896"
      ]
     },
     "execution_count": 27,
     "metadata": {},
     "output_type": "execute_result"
    }
   ],
   "source": [
    "genres_of_interest = [\"Pop\",\"Hip-Hop/Rap\",\"Dance/Electronic\",\"Alternative/Indie\"]\n",
    "(dataset.set_index(\"genre\")\n",
    "    .loc[genres_of_interest,\"danceability\"]\n",
    "    .groupby(\"genre\")\n",
    "    .agg([\"mean\",\"min\",\"max\"])\n",
    "    .sort_values(by=\"mean\")\n",
    ")"
   ]
  },
  {
   "cell_type": "markdown",
   "metadata": {},
   "source": [
    "It seems like Alternative/Indie and Pop genres have a very similar danceability score on average, while Dance/Electronic and Hip-Hop/Rap genres are very close to each other as well. However, these 2 groups seems to have a quite a notable distance from each other."
   ]
  },
  {
   "cell_type": "markdown",
   "metadata": {},
   "source": [
    "### How does the loudness score compare between Pop, Hip-Hop/Rap, Dance/Electronic, and Alternative/Indie genres?"
   ]
  },
  {
   "cell_type": "code",
   "execution_count": 28,
   "metadata": {},
   "outputs": [
    {
     "data": {
      "text/html": [
       "<div>\n",
       "<style scoped>\n",
       "    .dataframe tbody tr th:only-of-type {\n",
       "        vertical-align: middle;\n",
       "    }\n",
       "\n",
       "    .dataframe tbody tr th {\n",
       "        vertical-align: top;\n",
       "    }\n",
       "\n",
       "    .dataframe thead th {\n",
       "        text-align: right;\n",
       "    }\n",
       "</style>\n",
       "<table border=\"1\" class=\"dataframe\">\n",
       "  <thead>\n",
       "    <tr style=\"text-align: right;\">\n",
       "      <th></th>\n",
       "      <th>mean</th>\n",
       "      <th>min</th>\n",
       "      <th>max</th>\n",
       "    </tr>\n",
       "    <tr>\n",
       "      <th>genre</th>\n",
       "      <th></th>\n",
       "      <th></th>\n",
       "      <th></th>\n",
       "    </tr>\n",
       "  </thead>\n",
       "  <tbody>\n",
       "    <tr>\n",
       "      <th>Hip-Hop/Rap</th>\n",
       "      <td>-6.917846</td>\n",
       "      <td>-8.820</td>\n",
       "      <td>-3.370</td>\n",
       "    </tr>\n",
       "    <tr>\n",
       "      <th>Pop</th>\n",
       "      <td>-6.460357</td>\n",
       "      <td>-14.454</td>\n",
       "      <td>-3.280</td>\n",
       "    </tr>\n",
       "    <tr>\n",
       "      <th>Alternative/Indie</th>\n",
       "      <td>-5.421000</td>\n",
       "      <td>-6.401</td>\n",
       "      <td>-4.746</td>\n",
       "    </tr>\n",
       "    <tr>\n",
       "      <th>Dance/Electronic</th>\n",
       "      <td>-5.338000</td>\n",
       "      <td>-7.567</td>\n",
       "      <td>-3.756</td>\n",
       "    </tr>\n",
       "  </tbody>\n",
       "</table>\n",
       "</div>"
      ],
      "text/plain": [
       "                       mean     min    max\n",
       "genre                                     \n",
       "Hip-Hop/Rap       -6.917846  -8.820 -3.370\n",
       "Pop               -6.460357 -14.454 -3.280\n",
       "Alternative/Indie -5.421000  -6.401 -4.746\n",
       "Dance/Electronic  -5.338000  -7.567 -3.756"
      ]
     },
     "execution_count": 28,
     "metadata": {},
     "output_type": "execute_result"
    }
   ],
   "source": [
    "(dataset.set_index(\"genre\")\n",
    "    .loc[genres_of_interest,\"loudness\"]\n",
    "    .groupby(\"genre\")\n",
    "    .agg([\"mean\",\"min\",\"max\"])\n",
    "    .sort_values(by=\"mean\")\n",
    ")"
   ]
  },
  {
   "cell_type": "markdown",
   "metadata": {},
   "source": [
    "This time, Hip-Hop/Rap and Pop, as well as Alternative/Indie and Dance/Electronic are the groups closer to each other. We can determine that the latter group is generally louder."
   ]
  },
  {
   "cell_type": "markdown",
   "metadata": {},
   "source": [
    "### How does the acousticness score compare between Pop, Hip-Hop/Rap, Dance/Electronic, and Alternative/Indie genres?"
   ]
  },
  {
   "cell_type": "code",
   "execution_count": 29,
   "metadata": {},
   "outputs": [
    {
     "data": {
      "text/html": [
       "<div>\n",
       "<style scoped>\n",
       "    .dataframe tbody tr th:only-of-type {\n",
       "        vertical-align: middle;\n",
       "    }\n",
       "\n",
       "    .dataframe tbody tr th {\n",
       "        vertical-align: top;\n",
       "    }\n",
       "\n",
       "    .dataframe thead th {\n",
       "        text-align: right;\n",
       "    }\n",
       "</style>\n",
       "<table border=\"1\" class=\"dataframe\">\n",
       "  <thead>\n",
       "    <tr style=\"text-align: right;\">\n",
       "      <th></th>\n",
       "      <th>mean</th>\n",
       "      <th>min</th>\n",
       "      <th>max</th>\n",
       "    </tr>\n",
       "    <tr>\n",
       "      <th>genre</th>\n",
       "      <th></th>\n",
       "      <th></th>\n",
       "      <th></th>\n",
       "    </tr>\n",
       "  </thead>\n",
       "  <tbody>\n",
       "    <tr>\n",
       "      <th>Dance/Electronic</th>\n",
       "      <td>0.099440</td>\n",
       "      <td>0.01370</td>\n",
       "      <td>0.223</td>\n",
       "    </tr>\n",
       "    <tr>\n",
       "      <th>Hip-Hop/Rap</th>\n",
       "      <td>0.188741</td>\n",
       "      <td>0.00513</td>\n",
       "      <td>0.731</td>\n",
       "    </tr>\n",
       "    <tr>\n",
       "      <th>Pop</th>\n",
       "      <td>0.323843</td>\n",
       "      <td>0.02100</td>\n",
       "      <td>0.902</td>\n",
       "    </tr>\n",
       "    <tr>\n",
       "      <th>Alternative/Indie</th>\n",
       "      <td>0.583500</td>\n",
       "      <td>0.29100</td>\n",
       "      <td>0.751</td>\n",
       "    </tr>\n",
       "  </tbody>\n",
       "</table>\n",
       "</div>"
      ],
      "text/plain": [
       "                       mean      min    max\n",
       "genre                                      \n",
       "Dance/Electronic   0.099440  0.01370  0.223\n",
       "Hip-Hop/Rap        0.188741  0.00513  0.731\n",
       "Pop                0.323843  0.02100  0.902\n",
       "Alternative/Indie  0.583500  0.29100  0.751"
      ]
     },
     "execution_count": 29,
     "metadata": {},
     "output_type": "execute_result"
    }
   ],
   "source": [
    "(dataset.set_index(\"genre\")\n",
    "    .loc[genres_of_interest,\"acousticness\"]\n",
    "    .groupby(\"genre\")\n",
    "    .agg([\"mean\",\"min\",\"max\"])\n",
    "    .sort_values(by=\"mean\")\n",
    ")"
   ]
  },
  {
   "cell_type": "markdown",
   "metadata": {},
   "source": [
    "Now we see quite a difference between each group. The Dance/Electronic genre seems to have the lowest average acousticness score, followed by Hip-Hop/Rap (almost a 10% increase of a total possible value), then Pop by another ~14% jump as well, and lastly Alternative/Indie, with an impressive 26% increase."
   ]
  },
  {
   "cell_type": "markdown",
   "metadata": {},
   "source": [
    "## Conclusion"
   ]
  },
  {
   "cell_type": "markdown",
   "metadata": {},
   "source": [
    "We compared the dataset and found that the Hip-Hop and Pop songs were the most popular this year. However, we did have quite a few unique genres appearing in the top (almost half as many genres as there were songs). To check whether those genres could be rising in popularity, we would need to compare the dataset of 2019 or 2021.\n",
    "\n",
    "Even 7 artists managed to get their songs to the Top 50 more than once, with Dua Lipa, Billie Eilish and Travis Scott doing so 3 times. It seems like these artists might have a better fan engagement or music production quality.\n",
    "\n",
    "As for music characteristics, it seems like songs with a higher danceability and loudness score appeared way more often than those with lower scores. This suggests that most Spotify users prefer louder, upbeat songs.\n",
    "\n",
    "We also noted that energy and loudness features are very strongly correlated, as most loud songs will be more energetic. Furthermore, songs that have higher acousticness and instrumentalness values will be less energetic and more silent, respectively."
   ]
  },
  {
   "cell_type": "markdown",
   "metadata": {},
   "source": [
    "## Further improvements"
   ]
  },
  {
   "cell_type": "markdown",
   "metadata": {},
   "source": [
    "Comparing this dataset to 2019's or 2021's Top 50 would allow us to see a pattern in which genres may be becoming more popular or irrelevant, and how specific values such as danceability may relate to the genres themselves.\n",
    "\n",
    "We could also apply data visualization for an easier representation of correlation between values, which would help us more quickly determine patterns.\n",
    "\n",
    "If possible, obtaining the lyrics of each song would help us compare whether more or less lyrical songs are popular. Maybe instrumental songs could even be the most top rated?\n",
    "\n",
    "Lastly, we could compare this dataset to the same year's dataset on other similar platforms, such as SoundCloud or Youtube Music to see whether users of these different platforms have drastically different preferences for music."
   ]
  }
 ],
 "metadata": {
  "kernelspec": {
   "display_name": ".venv",
   "language": "python",
   "name": "python3"
  },
  "language_info": {
   "codemirror_mode": {
    "name": "ipython",
    "version": 3
   },
   "file_extension": ".py",
   "mimetype": "text/x-python",
   "name": "python",
   "nbconvert_exporter": "python",
   "pygments_lexer": "ipython3",
   "version": "3.11.9"
  }
 },
 "nbformat": 4,
 "nbformat_minor": 2
}
